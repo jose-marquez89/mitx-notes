{
 "cells": [
  {
   "cell_type": "markdown",
   "id": "duplicate-respect",
   "metadata": {},
   "source": [
    "# Lecture 1 Notes\n",
    "\n",
    "\n",
    "A couple of latex tests:\n",
    "$$P(A \\cup B)$$\n",
    "$$P(A \\cap B)$$\n",
    "\n",
    "### Probability Calculations\n",
    "- specify the sample space\n",
    "- specify the probability law\n",
    "- identify an event of interest\n",
    "- calculate\n",
    "\n",
    "Using visualizations to help specify a probability law is always a good idea"
   ]
  },
  {
   "cell_type": "markdown",
   "id": "engaging-language",
   "metadata": {},
   "source": [
    "### Some calculus\n",
    "- in order to find the area under the curve for probability in one of the examples, I needed to find the definite integral of the function related to the inequality associated with the problem.\n",
    "- getting the auc involves ingegration of the derivative\n",
    "- I made a mistake by trying to integrate the derivative $2^2$ instead of $x^2 dx$"
   ]
  },
  {
   "cell_type": "code",
   "execution_count": null,
   "id": "eleven-election",
   "metadata": {},
   "outputs": [],
   "source": []
  }
 ],
 "metadata": {
  "kernelspec": {
   "display_name": "Python 3",
   "language": "python",
   "name": "python3"
  },
  "language_info": {
   "codemirror_mode": {
    "name": "ipython",
    "version": 3
   },
   "file_extension": ".py",
   "mimetype": "text/x-python",
   "name": "python",
   "nbconvert_exporter": "python",
   "pygments_lexer": "ipython3",
   "version": "3.8.5"
  }
 },
 "nbformat": 4,
 "nbformat_minor": 5
}
